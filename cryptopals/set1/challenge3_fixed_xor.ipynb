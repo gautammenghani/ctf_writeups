{
 "cells": [
  {
   "cell_type": "code",
   "execution_count": 3,
   "id": "da462293-85a3-42e1-88b3-1e41d4c09c52",
   "metadata": {},
   "outputs": [],
   "source": [
    "s='1b37373331363f78151b7f2b783431333d78397828372d363c78373e783a393b3736'"
   ]
  },
  {
   "cell_type": "code",
   "execution_count": 10,
   "id": "25515280-f127-49ec-aba4-d60e17929701",
   "metadata": {},
   "outputs": [
    {
     "data": {
      "text/plain": [
       "52"
      ]
     },
     "execution_count": 10,
     "metadata": {},
     "output_type": "execute_result"
    }
   ],
   "source": [
    "letters='abcdefghijklmnopqrstuvwxyzABCDEFGHIJKLMNOPQRSTUVWXYZ'\n",
    "len(letters)"
   ]
  },
  {
   "cell_type": "code",
   "execution_count": 52,
   "id": "5b2acc49-bac1-4901-9c72-ba9a430d6fb2",
   "metadata": {},
   "outputs": [
    {
     "data": {
      "text/plain": [
       "{'a': 0.0651738,\n",
       " 'b': 0.0124248,\n",
       " 'c': 0.0217339,\n",
       " 'd': 0.0349835,\n",
       " 'e': 0.1041442,\n",
       " 'f': 0.0197881,\n",
       " 'g': 0.015861,\n",
       " 'h': 0.0492888,\n",
       " 'i': 0.0558094,\n",
       " 'j': 0.0009033,\n",
       " 'k': 0.0050529,\n",
       " 'l': 0.033149,\n",
       " 'm': 0.0202124,\n",
       " 'n': 0.0564513,\n",
       " 'o': 0.0596302,\n",
       " 'p': 0.0137645,\n",
       " 'q': 0.0008606,\n",
       " 'r': 0.0497563,\n",
       " 's': 0.051576,\n",
       " 't': 0.0729357,\n",
       " 'u': 0.0225134,\n",
       " 'v': 0.0082903,\n",
       " 'w': 0.0171272,\n",
       " 'x': 0.0013692,\n",
       " 'y': 0.0145984,\n",
       " 'z': 0.0007836,\n",
       " ' ': 0.1918182}"
      ]
     },
     "execution_count": 52,
     "metadata": {},
     "output_type": "execute_result"
    }
   ],
   "source": [
    "d=dict()\n",
    "start=97\n",
    "lst=['0.0651738', '0.0124248', '0.0217339', '0.0349835', '0.1041442', '0.0197881', '0.0158610', '0.0492888', '0.0558094', '0.0009033', '0.0050529', '0.0331490', '0.0202124', '0.0564513', '0.0596302', '0.0137645', '0.0008606', '0.0497563', '0.0515760', '0.0729357', '0.0225134', '0.0082903', '0.0171272', '0.0013692', '0.0145984', '0.0007836', '0.1918182']\n",
    "i=0\n",
    "while start<123:\n",
    "    d[chr(start)]=float(lst[i])\n",
    "    i+=1\n",
    "    start+=1\n",
    "d[' ']=float(lst[-1])\n",
    "d"
   ]
  },
  {
   "cell_type": "code",
   "execution_count": 53,
   "id": "c8752cc7-8702-45ae-9a60-f5a4d0e262a0",
   "metadata": {},
   "outputs": [],
   "source": [
    "def score(s):\n",
    "    total=0\n",
    "    for letter in s:\n",
    "        if letter in d:\n",
    "            total+=d[letter]\n",
    "    return total"
   ]
  },
  {
   "cell_type": "code",
   "execution_count": 58,
   "id": "27c7a9ac-1df1-4079-8020-55f97fd9a2c9",
   "metadata": {},
   "outputs": [
    {
     "name": "stdout",
     "output_type": "stream",
     "text": [
      "letter a (score : 0.4102747) : zvvrpw^\u0019tz\u001e",
      "j\u0019upr\\\u0019x\u0019ivlw]\u0019v_\u0019[xzvw\n",
      "letter b (score : 0.6231721000000001) : yuuqst]\u001awy\u001d",
      "i\u001avsq_\u001a[\u001ajuot^\u001au\\\u001ax[yut\n",
      "letter c (score : 0.7157440000000002) : xttpru\\\u001bvx\u001c",
      "h\u001bwrp^\u001bz\u001bktnu_\u001bt]\u001byzxtu\n",
      "letter e (score : 0.7232902999999999) : ~rrvtsz\u001d",
      "p~\u001an\u001d",
      "qtvx\u001d",
      "\\\u001d",
      "mrhsy\u001d",
      "r[\u001d",
      "_\\^rs\n",
      "letter p (score : 0.7501053000000001) : kggcafek\u000fdacxg]fgjikgf\n",
      "letter r (score : 1.2467837) : ieeacdm\n",
      "yi\n",
      "fcao\n",
      "k\n",
      "ze_dn\n",
      "el\n",
      "hkied\n",
      "letter X (score : 2.2641049) : cooking mc's like a pound of bacon\n"
     ]
    }
   ],
   "source": [
    "maxx=-1\n",
    "for letter in letters:\n",
    "    res=''    \n",
    "    winn=''\n",
    "    for i in range(0,len(s),2):\n",
    "        res+=chr(ord(letter)^int(s[i:i+2],16)).lower()\n",
    "    sc=score(res)\n",
    "    if(maxx==-1 or sc>maxx):\n",
    "        maxx=sc\n",
    "        winn=letter\n",
    "        print(f'letter {letter} (score : {sc}) : {res}')\n",
    "    \n",
    "#answer : x"
   ]
  },
  {
   "cell_type": "code",
   "execution_count": null,
   "id": "2947929d-7220-43b9-acaf-20503eb756d6",
   "metadata": {},
   "outputs": [],
   "source": []
  }
 ],
 "metadata": {
  "kernelspec": {
   "display_name": "Python 3 (ipykernel)",
   "language": "python",
   "name": "python3"
  },
  "language_info": {
   "codemirror_mode": {
    "name": "ipython",
    "version": 3
   },
   "file_extension": ".py",
   "mimetype": "text/x-python",
   "name": "python",
   "nbconvert_exporter": "python",
   "pygments_lexer": "ipython3",
   "version": "3.8.10"
  }
 },
 "nbformat": 4,
 "nbformat_minor": 5
}
