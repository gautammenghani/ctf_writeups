{
 "cells": [
  {
   "cell_type": "code",
   "execution_count": 48,
   "id": "4f69bf13-6e21-4a5f-8acc-53f1ab732feb",
   "metadata": {},
   "outputs": [],
   "source": [
    "st='49276d206b696c6c696e6720796f757220627261696e206c696b65206120706f69736f6e6f7573206d757368726f6f6d'"
   ]
  },
  {
   "cell_type": "code",
   "execution_count": 49,
   "id": "c1ea049f-15c8-4bd6-9828-eb2588c2dcf3",
   "metadata": {},
   "outputs": [],
   "source": [
    "# create the base64 table\n",
    "d=dict()\n",
    "i=0\n",
    "#caps\n",
    "for i in range(26):\n",
    "    d[i]=chr(i+65)\n",
    "#small\n",
    "for i in range(26,52):\n",
    "    d[i]=chr(i+71)\n",
    "#nos\n",
    "for i in range(52,62):\n",
    "    d[i]=str(i-52)\n",
    "d[62]='+'\n",
    "d[63]=chr(92)"
   ]
  },
  {
   "cell_type": "code",
   "execution_count": 50,
   "id": "0080ee68-899a-4771-a5ac-bc5ade83695b",
   "metadata": {},
   "outputs": [
    {
     "data": {
      "text/plain": [
       "'SSdtIGtpbGxpbmcgeW91ciBicmFpbiBsaWtlIGEgcG9pc29ub3VzIG11c2hyb29t'"
      ]
     },
     "execution_count": 50,
     "metadata": {},
     "output_type": "execute_result"
    }
   ],
   "source": [
    "lst=''\n",
    "for i in range(0,len(st)-1,2):\n",
    "    int_repr = (int(st[i:i+2],16))\n",
    "    lst+=((bin(int_repr)[2:].zfill(8)))\n",
    "res=''\n",
    "for i in range(0,len(lst),6):\n",
    "    res=res+(d[int(lst[i:i+6],2)])\n",
    "res"
   ]
  }
 ],
 "metadata": {
  "kernelspec": {
   "display_name": "Python 3 (ipykernel)",
   "language": "python",
   "name": "python3"
  },
  "language_info": {
   "codemirror_mode": {
    "name": "ipython",
    "version": 3
   },
   "file_extension": ".py",
   "mimetype": "text/x-python",
   "name": "python",
   "nbconvert_exporter": "python",
   "pygments_lexer": "ipython3",
   "version": "3.8.10"
  }
 },
 "nbformat": 4,
 "nbformat_minor": 5
}
