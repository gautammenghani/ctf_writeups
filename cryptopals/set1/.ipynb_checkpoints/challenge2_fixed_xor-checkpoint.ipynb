{
 "cells": [
  {
   "cell_type": "code",
   "execution_count": 10,
   "id": "4f69bf13-6e21-4a5f-8acc-53f1ab732feb",
   "metadata": {},
   "outputs": [],
   "source": [
    "#xor every byte and convert them to hex\n",
    "def xor(s1,s2):\n",
    "    res=''\n",
    "    for i in range(0,len(s1),2):\n",
    "        res += hex(int(s1[i:i+2],16)^int(s2[i:i+2],16))[2:]\n",
    "    return res"
   ]
  },
  {
   "cell_type": "code",
   "execution_count": 11,
   "id": "0080ee68-899a-4771-a5ac-bc5ade83695b",
   "metadata": {},
   "outputs": [
    {
     "name": "stdout",
     "output_type": "stream",
     "text": [
      "746865206b696420646f6e277420706c6179\n"
     ]
    }
   ],
   "source": [
    "s1='1c0111001f010100061a024b53535009181c'\n",
    "s2='686974207468652062756c6c277320657965'\n",
    "print(xor(s1,s2))"
   ]
  },
  {
   "cell_type": "code",
   "execution_count": null,
   "id": "f77a4136-1eea-4c84-9545-f3669c7d6994",
   "metadata": {},
   "outputs": [],
   "source": []
  }
 ],
 "metadata": {
  "kernelspec": {
   "display_name": "Python 3 (ipykernel)",
   "language": "python",
   "name": "python3"
  },
  "language_info": {
   "codemirror_mode": {
    "name": "ipython",
    "version": 3
   },
   "file_extension": ".py",
   "mimetype": "text/x-python",
   "name": "python",
   "nbconvert_exporter": "python",
   "pygments_lexer": "ipython3",
   "version": "3.8.10"
  }
 },
 "nbformat": 4,
 "nbformat_minor": 5
}
